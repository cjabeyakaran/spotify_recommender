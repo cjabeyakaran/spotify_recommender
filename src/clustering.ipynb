{
 "cells": [
  {
   "cell_type": "markdown",
   "metadata": {},
   "source": [
    "# Unsupervised Clustering Models"
   ]
  },
  {
   "cell_type": "code",
   "execution_count": 2,
   "metadata": {},
   "outputs": [],
   "source": [
    "import numpy as np\n",
    "import pandas as pd\n",
    "import matplotlib.pyplot as plt"
   ]
  },
  {
   "cell_type": "markdown",
   "metadata": {},
   "source": [
    "# Data Processing"
   ]
  },
  {
   "cell_type": "code",
   "execution_count": 3,
   "metadata": {},
   "outputs": [
    {
     "data": {
      "text/html": [
       "<div>\n",
       "<style scoped>\n",
       "    .dataframe tbody tr th:only-of-type {\n",
       "        vertical-align: middle;\n",
       "    }\n",
       "\n",
       "    .dataframe tbody tr th {\n",
       "        vertical-align: top;\n",
       "    }\n",
       "\n",
       "    .dataframe thead th {\n",
       "        text-align: right;\n",
       "    }\n",
       "</style>\n",
       "<table border=\"1\" class=\"dataframe\">\n",
       "  <thead>\n",
       "    <tr style=\"text-align: right;\">\n",
       "      <th></th>\n",
       "      <th>valence</th>\n",
       "      <th>year</th>\n",
       "      <th>acousticness</th>\n",
       "      <th>artists</th>\n",
       "      <th>danceability</th>\n",
       "      <th>duration_ms</th>\n",
       "      <th>energy</th>\n",
       "      <th>explicit</th>\n",
       "      <th>id</th>\n",
       "      <th>instrumentalness</th>\n",
       "      <th>key</th>\n",
       "      <th>liveness</th>\n",
       "      <th>loudness</th>\n",
       "      <th>mode</th>\n",
       "      <th>name</th>\n",
       "      <th>popularity</th>\n",
       "      <th>release_date</th>\n",
       "      <th>speechiness</th>\n",
       "      <th>tempo</th>\n",
       "    </tr>\n",
       "  </thead>\n",
       "  <tbody>\n",
       "    <tr>\n",
       "      <th>0</th>\n",
       "      <td>0.0594</td>\n",
       "      <td>1921</td>\n",
       "      <td>0.98200</td>\n",
       "      <td>['Sergei Rachmaninoff', 'James Levine', 'Berli...</td>\n",
       "      <td>0.279</td>\n",
       "      <td>831667</td>\n",
       "      <td>0.211</td>\n",
       "      <td>0</td>\n",
       "      <td>4BJqT0PrAfrxzMOxytFOIz</td>\n",
       "      <td>0.878000</td>\n",
       "      <td>10</td>\n",
       "      <td>0.6650</td>\n",
       "      <td>-20.096</td>\n",
       "      <td>1</td>\n",
       "      <td>Piano Concerto No. 3 in D Minor, Op. 30: III. ...</td>\n",
       "      <td>4</td>\n",
       "      <td>1921</td>\n",
       "      <td>0.0366</td>\n",
       "      <td>80.954</td>\n",
       "    </tr>\n",
       "    <tr>\n",
       "      <th>1</th>\n",
       "      <td>0.9630</td>\n",
       "      <td>1921</td>\n",
       "      <td>0.73200</td>\n",
       "      <td>['Dennis Day']</td>\n",
       "      <td>0.819</td>\n",
       "      <td>180533</td>\n",
       "      <td>0.341</td>\n",
       "      <td>0</td>\n",
       "      <td>7xPhfUan2yNtyFG0cUWkt8</td>\n",
       "      <td>0.000000</td>\n",
       "      <td>7</td>\n",
       "      <td>0.1600</td>\n",
       "      <td>-12.441</td>\n",
       "      <td>1</td>\n",
       "      <td>Clancy Lowered the Boom</td>\n",
       "      <td>5</td>\n",
       "      <td>1921</td>\n",
       "      <td>0.4150</td>\n",
       "      <td>60.936</td>\n",
       "    </tr>\n",
       "    <tr>\n",
       "      <th>2</th>\n",
       "      <td>0.0394</td>\n",
       "      <td>1921</td>\n",
       "      <td>0.96100</td>\n",
       "      <td>['KHP Kridhamardawa Karaton Ngayogyakarta Hadi...</td>\n",
       "      <td>0.328</td>\n",
       "      <td>500062</td>\n",
       "      <td>0.166</td>\n",
       "      <td>0</td>\n",
       "      <td>1o6I8BglA6ylDMrIELygv1</td>\n",
       "      <td>0.913000</td>\n",
       "      <td>3</td>\n",
       "      <td>0.1010</td>\n",
       "      <td>-14.850</td>\n",
       "      <td>1</td>\n",
       "      <td>Gati Bali</td>\n",
       "      <td>5</td>\n",
       "      <td>1921</td>\n",
       "      <td>0.0339</td>\n",
       "      <td>110.339</td>\n",
       "    </tr>\n",
       "    <tr>\n",
       "      <th>3</th>\n",
       "      <td>0.1650</td>\n",
       "      <td>1921</td>\n",
       "      <td>0.96700</td>\n",
       "      <td>['Frank Parker']</td>\n",
       "      <td>0.275</td>\n",
       "      <td>210000</td>\n",
       "      <td>0.309</td>\n",
       "      <td>0</td>\n",
       "      <td>3ftBPsC5vPBKxYSee08FDH</td>\n",
       "      <td>0.000028</td>\n",
       "      <td>5</td>\n",
       "      <td>0.3810</td>\n",
       "      <td>-9.316</td>\n",
       "      <td>1</td>\n",
       "      <td>Danny Boy</td>\n",
       "      <td>3</td>\n",
       "      <td>1921</td>\n",
       "      <td>0.0354</td>\n",
       "      <td>100.109</td>\n",
       "    </tr>\n",
       "    <tr>\n",
       "      <th>4</th>\n",
       "      <td>0.2530</td>\n",
       "      <td>1921</td>\n",
       "      <td>0.95700</td>\n",
       "      <td>['Phil Regan']</td>\n",
       "      <td>0.418</td>\n",
       "      <td>166693</td>\n",
       "      <td>0.193</td>\n",
       "      <td>0</td>\n",
       "      <td>4d6HGyGT8e121BsdKmw9v6</td>\n",
       "      <td>0.000002</td>\n",
       "      <td>3</td>\n",
       "      <td>0.2290</td>\n",
       "      <td>-10.096</td>\n",
       "      <td>1</td>\n",
       "      <td>When Irish Eyes Are Smiling</td>\n",
       "      <td>2</td>\n",
       "      <td>1921</td>\n",
       "      <td>0.0380</td>\n",
       "      <td>101.665</td>\n",
       "    </tr>\n",
       "    <tr>\n",
       "      <th>...</th>\n",
       "      <td>...</td>\n",
       "      <td>...</td>\n",
       "      <td>...</td>\n",
       "      <td>...</td>\n",
       "      <td>...</td>\n",
       "      <td>...</td>\n",
       "      <td>...</td>\n",
       "      <td>...</td>\n",
       "      <td>...</td>\n",
       "      <td>...</td>\n",
       "      <td>...</td>\n",
       "      <td>...</td>\n",
       "      <td>...</td>\n",
       "      <td>...</td>\n",
       "      <td>...</td>\n",
       "      <td>...</td>\n",
       "      <td>...</td>\n",
       "      <td>...</td>\n",
       "      <td>...</td>\n",
       "    </tr>\n",
       "    <tr>\n",
       "      <th>170617</th>\n",
       "      <td>0.6080</td>\n",
       "      <td>2020</td>\n",
       "      <td>0.08460</td>\n",
       "      <td>['Anuel AA', 'Daddy Yankee', 'KAROL G', 'Ozuna...</td>\n",
       "      <td>0.786</td>\n",
       "      <td>301714</td>\n",
       "      <td>0.808</td>\n",
       "      <td>0</td>\n",
       "      <td>0KkIkfsLEJbrcIhYsCL7L5</td>\n",
       "      <td>0.000289</td>\n",
       "      <td>7</td>\n",
       "      <td>0.0822</td>\n",
       "      <td>-3.702</td>\n",
       "      <td>1</td>\n",
       "      <td>China</td>\n",
       "      <td>72</td>\n",
       "      <td>2020-05-29</td>\n",
       "      <td>0.0881</td>\n",
       "      <td>105.029</td>\n",
       "    </tr>\n",
       "    <tr>\n",
       "      <th>170618</th>\n",
       "      <td>0.7340</td>\n",
       "      <td>2020</td>\n",
       "      <td>0.20600</td>\n",
       "      <td>['Ashnikko']</td>\n",
       "      <td>0.717</td>\n",
       "      <td>150654</td>\n",
       "      <td>0.753</td>\n",
       "      <td>0</td>\n",
       "      <td>0OStKKAuXlxA0fMH54Qs6E</td>\n",
       "      <td>0.000000</td>\n",
       "      <td>7</td>\n",
       "      <td>0.1010</td>\n",
       "      <td>-6.020</td>\n",
       "      <td>1</td>\n",
       "      <td>Halloweenie III: Seven Days</td>\n",
       "      <td>68</td>\n",
       "      <td>2020-10-23</td>\n",
       "      <td>0.0605</td>\n",
       "      <td>137.936</td>\n",
       "    </tr>\n",
       "    <tr>\n",
       "      <th>170619</th>\n",
       "      <td>0.6370</td>\n",
       "      <td>2020</td>\n",
       "      <td>0.10100</td>\n",
       "      <td>['MAMAMOO']</td>\n",
       "      <td>0.634</td>\n",
       "      <td>211280</td>\n",
       "      <td>0.858</td>\n",
       "      <td>0</td>\n",
       "      <td>4BZXVFYCb76Q0Klojq4piV</td>\n",
       "      <td>0.000009</td>\n",
       "      <td>4</td>\n",
       "      <td>0.2580</td>\n",
       "      <td>-2.226</td>\n",
       "      <td>0</td>\n",
       "      <td>AYA</td>\n",
       "      <td>76</td>\n",
       "      <td>2020-11-03</td>\n",
       "      <td>0.0809</td>\n",
       "      <td>91.688</td>\n",
       "    </tr>\n",
       "    <tr>\n",
       "      <th>170620</th>\n",
       "      <td>0.1950</td>\n",
       "      <td>2020</td>\n",
       "      <td>0.00998</td>\n",
       "      <td>['Eminem']</td>\n",
       "      <td>0.671</td>\n",
       "      <td>337147</td>\n",
       "      <td>0.623</td>\n",
       "      <td>1</td>\n",
       "      <td>5SiZJoLXp3WOl3J4C8IK0d</td>\n",
       "      <td>0.000008</td>\n",
       "      <td>2</td>\n",
       "      <td>0.6430</td>\n",
       "      <td>-7.161</td>\n",
       "      <td>1</td>\n",
       "      <td>Darkness</td>\n",
       "      <td>70</td>\n",
       "      <td>2020-01-17</td>\n",
       "      <td>0.3080</td>\n",
       "      <td>75.055</td>\n",
       "    </tr>\n",
       "    <tr>\n",
       "      <th>170621</th>\n",
       "      <td>0.6420</td>\n",
       "      <td>2020</td>\n",
       "      <td>0.13200</td>\n",
       "      <td>['KEVVO', 'J Balvin']</td>\n",
       "      <td>0.856</td>\n",
       "      <td>189507</td>\n",
       "      <td>0.721</td>\n",
       "      <td>1</td>\n",
       "      <td>7HmnJHfs0BkFzX4x8j0hkl</td>\n",
       "      <td>0.004710</td>\n",
       "      <td>7</td>\n",
       "      <td>0.1820</td>\n",
       "      <td>-4.928</td>\n",
       "      <td>1</td>\n",
       "      <td>Billetes Azules (with J Balvin)</td>\n",
       "      <td>74</td>\n",
       "      <td>2020-10-16</td>\n",
       "      <td>0.1080</td>\n",
       "      <td>94.991</td>\n",
       "    </tr>\n",
       "  </tbody>\n",
       "</table>\n",
       "<p>170622 rows × 19 columns</p>\n",
       "</div>"
      ],
      "text/plain": [
       "        valence  year  acousticness  \\\n",
       "0        0.0594  1921       0.98200   \n",
       "1        0.9630  1921       0.73200   \n",
       "2        0.0394  1921       0.96100   \n",
       "3        0.1650  1921       0.96700   \n",
       "4        0.2530  1921       0.95700   \n",
       "...         ...   ...           ...   \n",
       "170617   0.6080  2020       0.08460   \n",
       "170618   0.7340  2020       0.20600   \n",
       "170619   0.6370  2020       0.10100   \n",
       "170620   0.1950  2020       0.00998   \n",
       "170621   0.6420  2020       0.13200   \n",
       "\n",
       "                                                  artists  danceability  \\\n",
       "0       ['Sergei Rachmaninoff', 'James Levine', 'Berli...         0.279   \n",
       "1                                          ['Dennis Day']         0.819   \n",
       "2       ['KHP Kridhamardawa Karaton Ngayogyakarta Hadi...         0.328   \n",
       "3                                        ['Frank Parker']         0.275   \n",
       "4                                          ['Phil Regan']         0.418   \n",
       "...                                                   ...           ...   \n",
       "170617  ['Anuel AA', 'Daddy Yankee', 'KAROL G', 'Ozuna...         0.786   \n",
       "170618                                       ['Ashnikko']         0.717   \n",
       "170619                                        ['MAMAMOO']         0.634   \n",
       "170620                                         ['Eminem']         0.671   \n",
       "170621                              ['KEVVO', 'J Balvin']         0.856   \n",
       "\n",
       "        duration_ms  energy  explicit                      id  \\\n",
       "0            831667   0.211         0  4BJqT0PrAfrxzMOxytFOIz   \n",
       "1            180533   0.341         0  7xPhfUan2yNtyFG0cUWkt8   \n",
       "2            500062   0.166         0  1o6I8BglA6ylDMrIELygv1   \n",
       "3            210000   0.309         0  3ftBPsC5vPBKxYSee08FDH   \n",
       "4            166693   0.193         0  4d6HGyGT8e121BsdKmw9v6   \n",
       "...             ...     ...       ...                     ...   \n",
       "170617       301714   0.808         0  0KkIkfsLEJbrcIhYsCL7L5   \n",
       "170618       150654   0.753         0  0OStKKAuXlxA0fMH54Qs6E   \n",
       "170619       211280   0.858         0  4BZXVFYCb76Q0Klojq4piV   \n",
       "170620       337147   0.623         1  5SiZJoLXp3WOl3J4C8IK0d   \n",
       "170621       189507   0.721         1  7HmnJHfs0BkFzX4x8j0hkl   \n",
       "\n",
       "        instrumentalness  key  liveness  loudness  mode  \\\n",
       "0               0.878000   10    0.6650   -20.096     1   \n",
       "1               0.000000    7    0.1600   -12.441     1   \n",
       "2               0.913000    3    0.1010   -14.850     1   \n",
       "3               0.000028    5    0.3810    -9.316     1   \n",
       "4               0.000002    3    0.2290   -10.096     1   \n",
       "...                  ...  ...       ...       ...   ...   \n",
       "170617          0.000289    7    0.0822    -3.702     1   \n",
       "170618          0.000000    7    0.1010    -6.020     1   \n",
       "170619          0.000009    4    0.2580    -2.226     0   \n",
       "170620          0.000008    2    0.6430    -7.161     1   \n",
       "170621          0.004710    7    0.1820    -4.928     1   \n",
       "\n",
       "                                                     name  popularity  \\\n",
       "0       Piano Concerto No. 3 in D Minor, Op. 30: III. ...           4   \n",
       "1                                 Clancy Lowered the Boom           5   \n",
       "2                                               Gati Bali           5   \n",
       "3                                               Danny Boy           3   \n",
       "4                             When Irish Eyes Are Smiling           2   \n",
       "...                                                   ...         ...   \n",
       "170617                                              China          72   \n",
       "170618                        Halloweenie III: Seven Days          68   \n",
       "170619                                                AYA          76   \n",
       "170620                                           Darkness          70   \n",
       "170621                    Billetes Azules (with J Balvin)          74   \n",
       "\n",
       "       release_date  speechiness    tempo  \n",
       "0              1921       0.0366   80.954  \n",
       "1              1921       0.4150   60.936  \n",
       "2              1921       0.0339  110.339  \n",
       "3              1921       0.0354  100.109  \n",
       "4              1921       0.0380  101.665  \n",
       "...             ...          ...      ...  \n",
       "170617   2020-05-29       0.0881  105.029  \n",
       "170618   2020-10-23       0.0605  137.936  \n",
       "170619   2020-11-03       0.0809   91.688  \n",
       "170620   2020-01-17       0.3080   75.055  \n",
       "170621   2020-10-16       0.1080   94.991  \n",
       "\n",
       "[170622 rows x 19 columns]"
      ]
     },
     "execution_count": 3,
     "metadata": {},
     "output_type": "execute_result"
    }
   ],
   "source": [
    "songs = pd.read_csv(\"data/cleaned_songs.csv\").drop(\"Unnamed: 0\", axis=1)\n",
    "songs"
   ]
  },
  {
   "cell_type": "code",
   "execution_count": 4,
   "metadata": {},
   "outputs": [
    {
     "data": {
      "text/plain": [
       "array([[9.82000e-01, 2.79000e-01, 2.11000e-01, ..., 8.09540e+01,\n",
       "        5.94000e-02, 4.00000e+00],\n",
       "       [7.32000e-01, 8.19000e-01, 3.41000e-01, ..., 6.09360e+01,\n",
       "        9.63000e-01, 5.00000e+00],\n",
       "       [9.61000e-01, 3.28000e-01, 1.66000e-01, ..., 1.10339e+02,\n",
       "        3.94000e-02, 5.00000e+00],\n",
       "       ...,\n",
       "       [1.01000e-01, 6.34000e-01, 8.58000e-01, ..., 9.16880e+01,\n",
       "        6.37000e-01, 7.60000e+01],\n",
       "       [9.98000e-03, 6.71000e-01, 6.23000e-01, ..., 7.50550e+01,\n",
       "        1.95000e-01, 7.00000e+01],\n",
       "       [1.32000e-01, 8.56000e-01, 7.21000e-01, ..., 9.49910e+01,\n",
       "        6.42000e-01, 7.40000e+01]])"
      ]
     },
     "execution_count": 4,
     "metadata": {},
     "output_type": "execute_result"
    }
   ],
   "source": [
    "numerical = [\"acousticness\", \"danceability\", \"energy\", \"key\", \"instrumentalness\", \"mode\", \"liveness\", \"loudness\", \"speechiness\", \"tempo\", \"valence\", \"popularity\"]\n",
    "data = songs[numerical].to_numpy()\n",
    "data"
   ]
  },
  {
   "cell_type": "code",
   "execution_count": 7,
   "metadata": {},
   "outputs": [],
   "source": [
    "from sklearn.model_selection import KFold\n",
    "from sklearn.preprocessing import StandardScaler"
   ]
  },
  {
   "cell_type": "code",
   "execution_count": 8,
   "metadata": {},
   "outputs": [
    {
     "data": {
      "text/plain": [
       "10"
      ]
     },
     "execution_count": 8,
     "metadata": {},
     "output_type": "execute_result"
    }
   ],
   "source": [
    "kf = KFold(n_splits=10, random_state=13, shuffle=True)\n",
    "kf.get_n_splits(data)"
   ]
  },
  {
   "cell_type": "markdown",
   "metadata": {},
   "source": [
    "# Run KMeans Clustering"
   ]
  },
  {
   "cell_type": "code",
   "execution_count": 28,
   "metadata": {},
   "outputs": [],
   "source": [
    "from sklearn.cluster import KMeans"
   ]
  },
  {
   "cell_type": "code",
   "execution_count": 29,
   "metadata": {},
   "outputs": [],
   "source": [
    "train_scores = np.zeros(20)\n",
    "val_scores = np.zeros(20)"
   ]
  },
  {
   "cell_type": "code",
   "execution_count": 30,
   "metadata": {},
   "outputs": [],
   "source": [
    "for i in range(1, 21):\n",
    "    train_iter_scores = []\n",
    "    val_iter_scores = []\n",
    "\n",
    "    for train_idx, test_idx in kf.split(data):\n",
    "        train, val = data[train_idx], data[test_idx]\n",
    "        \n",
    "        scaler = StandardScaler()\n",
    "        X_train = scaler.fit_transform(train)\n",
    "        X_val = scaler.transform(val)\n",
    "\n",
    "        model = KMeans(n_clusters=i)\n",
    "        model.fit(X_train)\n",
    "        train_iter_scores.append(model.score(X_train))\n",
    "        val_iter_scores.append(model.score(X_val))\n",
    "    \n",
    "    train_scores[i-1] = np.mean(train_iter_scores)\n",
    "    val_scores[i-1] = np.mean(val_iter_scores)"
   ]
  },
  {
   "cell_type": "code",
   "execution_count": 32,
   "metadata": {},
   "outputs": [
    {
     "data": {
      "image/png": "[encoded data removed]",
      "text/plain": [
       "<Figure size 432x288 with 1 Axes>"
      ]
     },
     "metadata": {
      "needs_background": "light"
     },
     "output_type": "display_data"
    }
   ],
   "source": [
    "plt.plot(range(1, 21), -train_scores/(0.9*data.shape[0]), label=\"Train Scores\")\n",
    "plt.plot(range(1, 21), -val_scores/(0.1*data.shape[0]), label=\"Validation Scores\")\n",
    "plt.legend()\n",
    "plt.show()"
   ]
  },
  {
   "cell_type": "markdown",
   "metadata": {},
   "source": [
    "The slow-down happens near k=7."
   ]
  },
  {
   "cell_type": "code",
   "execution_count": 33,
   "metadata": {},
   "outputs": [
    {
     "data": {
      "text/plain": [
       "array([2, 2, 1, ..., 4, 4, 4], dtype=int32)"
      ]
     },
     "execution_count": 33,
     "metadata": {},
     "output_type": "execute_result"
    }
   ],
   "source": [
    "best_model = KMeans(n_clusters=7)\n",
    "best_model.fit_predict(data)"
   ]
  },
  {
   "cell_type": "markdown",
   "metadata": {},
   "source": [
    "# Run DBSCAN"
   ]
  },
  {
   "cell_type": "code",
   "execution_count": 5,
   "metadata": {},
   "outputs": [],
   "source": [
    "from sklearn.cluster import DBSCAN"
   ]
  },
  {
   "cell_type": "code",
   "execution_count": 17,
   "metadata": {},
   "outputs": [],
   "source": [
    "cluster_size = []\n",
    "unassigned = []"
   ]
  },
  {
   "cell_type": "code",
   "execution_count": 18,
   "metadata": {},
   "outputs": [
    {
     "name": "stderr",
     "output_type": "stream",
     "text": [
      "/Users/chen/miniforge3/lib/python3.9/site-packages/numpy/core/fromnumeric.py:3474: RuntimeWarning: Mean of empty slice.\n",
      "  return _methods._mean(a, axis=axis, dtype=dtype,\n",
      "/Users/chen/miniforge3/lib/python3.9/site-packages/numpy/core/_methods.py:189: RuntimeWarning: invalid value encountered in double_scalars\n",
      "  ret = ret.dtype.type(ret / rcount)\n",
      "/Users/chen/miniforge3/lib/python3.9/site-packages/numpy/core/fromnumeric.py:3474: RuntimeWarning: Mean of empty slice.\n",
      "  return _methods._mean(a, axis=axis, dtype=dtype,\n",
      "/Users/chen/miniforge3/lib/python3.9/site-packages/numpy/core/_methods.py:189: RuntimeWarning: invalid value encountered in double_scalars\n",
      "  ret = ret.dtype.type(ret / rcount)\n",
      "/Users/chen/miniforge3/lib/python3.9/site-packages/numpy/core/fromnumeric.py:3474: RuntimeWarning: Mean of empty slice.\n",
      "  return _methods._mean(a, axis=axis, dtype=dtype,\n",
      "/Users/chen/miniforge3/lib/python3.9/site-packages/numpy/core/_methods.py:189: RuntimeWarning: invalid value encountered in double_scalars\n",
      "  ret = ret.dtype.type(ret / rcount)\n",
      "/Users/chen/miniforge3/lib/python3.9/site-packages/numpy/core/fromnumeric.py:3474: RuntimeWarning: Mean of empty slice.\n",
      "  return _methods._mean(a, axis=axis, dtype=dtype,\n",
      "/Users/chen/miniforge3/lib/python3.9/site-packages/numpy/core/_methods.py:189: RuntimeWarning: invalid value encountered in double_scalars\n",
      "  ret = ret.dtype.type(ret / rcount)\n",
      "/Users/chen/miniforge3/lib/python3.9/site-packages/numpy/core/fromnumeric.py:3474: RuntimeWarning: Mean of empty slice.\n",
      "  return _methods._mean(a, axis=axis, dtype=dtype,\n",
      "/Users/chen/miniforge3/lib/python3.9/site-packages/numpy/core/_methods.py:189: RuntimeWarning: invalid value encountered in double_scalars\n",
      "  ret = ret.dtype.type(ret / rcount)\n",
      "/Users/chen/miniforge3/lib/python3.9/site-packages/numpy/core/fromnumeric.py:3474: RuntimeWarning: Mean of empty slice.\n",
      "  return _methods._mean(a, axis=axis, dtype=dtype,\n",
      "/Users/chen/miniforge3/lib/python3.9/site-packages/numpy/core/_methods.py:189: RuntimeWarning: invalid value encountered in double_scalars\n",
      "  ret = ret.dtype.type(ret / rcount)\n",
      "/Users/chen/miniforge3/lib/python3.9/site-packages/numpy/core/fromnumeric.py:3474: RuntimeWarning: Mean of empty slice.\n",
      "  return _methods._mean(a, axis=axis, dtype=dtype,\n",
      "/Users/chen/miniforge3/lib/python3.9/site-packages/numpy/core/_methods.py:189: RuntimeWarning: invalid value encountered in double_scalars\n",
      "  ret = ret.dtype.type(ret / rcount)\n",
      "/Users/chen/miniforge3/lib/python3.9/site-packages/numpy/core/fromnumeric.py:3474: RuntimeWarning: Mean of empty slice.\n",
      "  return _methods._mean(a, axis=axis, dtype=dtype,\n",
      "/Users/chen/miniforge3/lib/python3.9/site-packages/numpy/core/_methods.py:189: RuntimeWarning: invalid value encountered in double_scalars\n",
      "  ret = ret.dtype.type(ret / rcount)\n",
      "/Users/chen/miniforge3/lib/python3.9/site-packages/numpy/core/fromnumeric.py:3474: RuntimeWarning: Mean of empty slice.\n",
      "  return _methods._mean(a, axis=axis, dtype=dtype,\n",
      "/Users/chen/miniforge3/lib/python3.9/site-packages/numpy/core/_methods.py:189: RuntimeWarning: invalid value encountered in double_scalars\n",
      "  ret = ret.dtype.type(ret / rcount)\n",
      "/Users/chen/miniforge3/lib/python3.9/site-packages/numpy/core/fromnumeric.py:3474: RuntimeWarning: Mean of empty slice.\n",
      "  return _methods._mean(a, axis=axis, dtype=dtype,\n",
      "/Users/chen/miniforge3/lib/python3.9/site-packages/numpy/core/_methods.py:189: RuntimeWarning: invalid value encountered in double_scalars\n",
      "  ret = ret.dtype.type(ret / rcount)\n",
      "/Users/chen/miniforge3/lib/python3.9/site-packages/numpy/core/fromnumeric.py:3474: RuntimeWarning: Mean of empty slice.\n",
      "  return _methods._mean(a, axis=axis, dtype=dtype,\n",
      "/Users/chen/miniforge3/lib/python3.9/site-packages/numpy/core/_methods.py:189: RuntimeWarning: invalid value encountered in double_scalars\n",
      "  ret = ret.dtype.type(ret / rcount)\n",
      "/Users/chen/miniforge3/lib/python3.9/site-packages/numpy/core/fromnumeric.py:3474: RuntimeWarning: Mean of empty slice.\n",
      "  return _methods._mean(a, axis=axis, dtype=dtype,\n",
      "/Users/chen/miniforge3/lib/python3.9/site-packages/numpy/core/_methods.py:189: RuntimeWarning: invalid value encountered in double_scalars\n",
      "  ret = ret.dtype.type(ret / rcount)\n",
      "/Users/chen/miniforge3/lib/python3.9/site-packages/numpy/core/fromnumeric.py:3474: RuntimeWarning: Mean of empty slice.\n",
      "  return _methods._mean(a, axis=axis, dtype=dtype,\n",
      "/Users/chen/miniforge3/lib/python3.9/site-packages/numpy/core/_methods.py:189: RuntimeWarning: invalid value encountered in double_scalars\n",
      "  ret = ret.dtype.type(ret / rcount)\n"
     ]
    }
   ],
   "source": [
    "for i in range(0, 50):\n",
    "    train_iter_scores = []\n",
    "    val_iter_scores = []\n",
    "    epss = np.linspace(0.1, 1.9, 50)\n",
    "\n",
    "    scaler = StandardScaler()\n",
    "    X = scaler.fit_transform(data)\n",
    "\n",
    "    model = DBSCAN(eps=epss[i], min_samples=20)\n",
    "    pred_clusters = model.fit_predict(X)\n",
    "\n",
    "    cluster_sizes = np.unique(pred_clusters, return_counts=True)\n",
    "\n",
    "    cluster_size.append(np.median(cluster_sizes[1][cluster_sizes[0] > -1]))\n",
    "    unassigned.append(cluster_sizes[1][cluster_sizes[0] == -1])\n"
   ]
  },
  {
   "cell_type": "code",
   "execution_count": 21,
   "metadata": {},
   "outputs": [
    {
     "data": {
      "image/png": "[encoded data removed]",
      "text/plain": [
       "<Figure size 432x288 with 1 Axes>"
      ]
     },
     "metadata": {
      "needs_background": "light"
     },
     "output_type": "display_data"
    }
   ],
   "source": [
    "plt.plot(np.linspace(0.1, 1.9, 50), cluster_size, label=\"Median Cluster Size\")\n",
    "plt.legend()\n",
    "plt.show()"
   ]
  },
  {
   "cell_type": "code",
   "execution_count": 33,
   "metadata": {},
   "outputs": [
    {
     "data": {
      "image/png": "[encoded data removed]",
      "text/plain": [
       "<Figure size 432x288 with 1 Axes>"
      ]
     },
     "metadata": {
      "needs_background": "light"
     },
     "output_type": "display_data"
    }
   ],
   "source": [
    "plt.plot(np.linspace(0.1, 1.9, 50)[:32], cluster_size[:32], label=\"Median Cluster Size\")\n",
    "plt.legend()\n",
    "plt.show()"
   ]
  },
  {
   "cell_type": "code",
   "execution_count": 22,
   "metadata": {},
   "outputs": [
    {
     "data": {
      "image/png": "[encoded data removed]",
      "text/plain": [
       "<Figure size 432x288 with 1 Axes>"
      ]
     },
     "metadata": {
      "needs_background": "light"
     },
     "output_type": "display_data"
    }
   ],
   "source": [
    "plt.plot(np.linspace(0.1, 1.9, 50), unassigned, label=\"Unassigned\")\n",
    "plt.legend()\n",
    "plt.show()"
   ]
  },
  {
   "cell_type": "code",
   "execution_count": 28,
   "metadata": {},
   "outputs": [
    {
     "data": {
      "image/png": "[encoded data removed]",
      "text/plain": [
       "<Figure size 432x288 with 1 Axes>"
      ]
     },
     "metadata": {
      "needs_background": "light"
     },
     "output_type": "display_data"
    }
   ],
   "source": [
    "plt.plot(np.linspace(0.1, 1.9, 50)[30:], unassigned[30:], label=\"Unassigned\")\n",
    "plt.legend()\n",
    "plt.show()"
   ]
  },
  {
   "cell_type": "code",
   "execution_count": 34,
   "metadata": {},
   "outputs": [
    {
     "data": {
      "text/plain": [
       "1.2387755102040816"
      ]
     },
     "execution_count": 34,
     "metadata": {},
     "output_type": "execute_result"
    }
   ],
   "source": [
    "np.linspace(0.1, 1.9, 50)[31]"
   ]
  },
  {
   "cell_type": "markdown",
   "metadata": {},
   "source": [
    "Best value balancing cluster size and number of items unassigned is eps = 1.2388."
   ]
  },
  {
   "cell_type": "markdown",
   "metadata": {},
   "source": [
    "# Run Distribution-Based Clustering"
   ]
  },
  {
   "cell_type": "code",
   "execution_count": 23,
   "metadata": {},
   "outputs": [],
   "source": [
    "from sklearn.mixture import GaussianMixture"
   ]
  },
  {
   "cell_type": "code",
   "execution_count": 29,
   "metadata": {},
   "outputs": [],
   "source": [
    "train_scores = np.zeros(20)\n",
    "val_scores = np.zeros(20)"
   ]
  },
  {
   "cell_type": "code",
   "execution_count": 30,
   "metadata": {},
   "outputs": [
    {
     "name": "stderr",
     "output_type": "stream",
     "text": [
      "/Users/chen/miniforge3/lib/python3.9/site-packages/sklearn/mixture/_base.py:277: ConvergenceWarning: Initialization 1 did not converge. Try different init parameters, or increase max_iter, tol or check for degenerate data.\n",
      "  warnings.warn(\n",
      "/Users/chen/miniforge3/lib/python3.9/site-packages/sklearn/mixture/_base.py:277: ConvergenceWarning: Initialization 1 did not converge. Try different init parameters, or increase max_iter, tol or check for degenerate data.\n",
      "  warnings.warn(\n",
      "/Users/chen/miniforge3/lib/python3.9/site-packages/sklearn/mixture/_base.py:277: ConvergenceWarning: Initialization 1 did not converge. Try different init parameters, or increase max_iter, tol or check for degenerate data.\n",
      "  warnings.warn(\n",
      "/Users/chen/miniforge3/lib/python3.9/site-packages/sklearn/mixture/_base.py:277: ConvergenceWarning: Initialization 1 did not converge. Try different init parameters, or increase max_iter, tol or check for degenerate data.\n",
      "  warnings.warn(\n",
      "/Users/chen/miniforge3/lib/python3.9/site-packages/sklearn/mixture/_base.py:277: ConvergenceWarning: Initialization 1 did not converge. Try different init parameters, or increase max_iter, tol or check for degenerate data.\n",
      "  warnings.warn(\n",
      "/Users/chen/miniforge3/lib/python3.9/site-packages/sklearn/mixture/_base.py:277: ConvergenceWarning: Initialization 1 did not converge. Try different init parameters, or increase max_iter, tol or check for degenerate data.\n",
      "  warnings.warn(\n",
      "/Users/chen/miniforge3/lib/python3.9/site-packages/sklearn/mixture/_base.py:277: ConvergenceWarning: Initialization 1 did not converge. Try different init parameters, or increase max_iter, tol or check for degenerate data.\n",
      "  warnings.warn(\n",
      "/Users/chen/miniforge3/lib/python3.9/site-packages/sklearn/mixture/_base.py:277: ConvergenceWarning: Initialization 1 did not converge. Try different init parameters, or increase max_iter, tol or check for degenerate data.\n",
      "  warnings.warn(\n",
      "/Users/chen/miniforge3/lib/python3.9/site-packages/sklearn/mixture/_base.py:277: ConvergenceWarning: Initialization 1 did not converge. Try different init parameters, or increase max_iter, tol or check for degenerate data.\n",
      "  warnings.warn(\n",
      "/Users/chen/miniforge3/lib/python3.9/site-packages/sklearn/mixture/_base.py:277: ConvergenceWarning: Initialization 1 did not converge. Try different init parameters, or increase max_iter, tol or check for degenerate data.\n",
      "  warnings.warn(\n",
      "/Users/chen/miniforge3/lib/python3.9/site-packages/sklearn/mixture/_base.py:277: ConvergenceWarning: Initialization 1 did not converge. Try different init parameters, or increase max_iter, tol or check for degenerate data.\n",
      "  warnings.warn(\n",
      "/Users/chen/miniforge3/lib/python3.9/site-packages/sklearn/mixture/_base.py:277: ConvergenceWarning: Initialization 1 did not converge. Try different init parameters, or increase max_iter, tol or check for degenerate data.\n",
      "  warnings.warn(\n",
      "/Users/chen/miniforge3/lib/python3.9/site-packages/sklearn/mixture/_base.py:277: ConvergenceWarning: Initialization 1 did not converge. Try different init parameters, or increase max_iter, tol or check for degenerate data.\n",
      "  warnings.warn(\n",
      "/Users/chen/miniforge3/lib/python3.9/site-packages/sklearn/mixture/_base.py:277: ConvergenceWarning: Initialization 1 did not converge. Try different init parameters, or increase max_iter, tol or check for degenerate data.\n",
      "  warnings.warn(\n",
      "/Users/chen/miniforge3/lib/python3.9/site-packages/sklearn/mixture/_base.py:277: ConvergenceWarning: Initialization 1 did not converge. Try different init parameters, or increase max_iter, tol or check for degenerate data.\n",
      "  warnings.warn(\n",
      "/Users/chen/miniforge3/lib/python3.9/site-packages/sklearn/mixture/_base.py:277: ConvergenceWarning: Initialization 1 did not converge. Try different init parameters, or increase max_iter, tol or check for degenerate data.\n",
      "  warnings.warn(\n"
     ]
    }
   ],
   "source": [
    "for i in range(1, 21):\n",
    "    train_iter_scores = []\n",
    "    val_iter_scores = []\n",
    "\n",
    "    for train_idx, test_idx in kf.split(data):\n",
    "        train, val = data[train_idx], data[test_idx]\n",
    "        \n",
    "        X_train = train\n",
    "        X_val = val\n",
    "\n",
    "        model = GaussianMixture(n_components=i)\n",
    "        model.fit(X_train)\n",
    "        train_iter_scores.append(model.score(X_train))\n",
    "        val_iter_scores.append(model.score(X_val))\n",
    "    \n",
    "    train_scores[i-1] = np.mean(train_iter_scores)\n",
    "    val_scores[i-1] = np.mean(val_iter_scores)"
   ]
  },
  {
   "cell_type": "code",
   "execution_count": 31,
   "metadata": {},
   "outputs": [
    {
     "data": {
      "image/png": "[encoded data removed]",
      "text/plain": [
       "<Figure size 432x288 with 1 Axes>"
      ]
     },
     "metadata": {
      "needs_background": "light"
     },
     "output_type": "display_data"
    }
   ],
   "source": [
    "plt.plot(range(1, 21), train_scores, label=\"Train Scores\")\n",
    "plt.plot(range(1, 21), val_scores, label=\"Validation Scores\")\n",
    "plt.legend()\n",
    "plt.show()"
   ]
  },
  {
   "cell_type": "markdown",
   "metadata": {},
   "source": [
    "Best value for number of components is 12."
   ]
  },
  {
   "cell_type": "markdown",
   "metadata": {},
   "source": [
    "# DBSCAN Cosine Similarity"
   ]
  },
  {
   "cell_type": "code",
   "execution_count": 35,
   "metadata": {},
   "outputs": [],
   "source": [
    "from sklearn.metrics.pairwise import cosine_distances"
   ]
  },
  {
   "cell_type": "code",
   "execution_count": 36,
   "metadata": {},
   "outputs": [],
   "source": [
    "dist_matrix = cosine_distances(data)"
   ]
  },
  {
   "cell_type": "code",
   "execution_count": null,
   "metadata": {},
   "outputs": [],
   "source": []
  }
 ],
 "metadata": {
  "interpreter": {
   "hash": "011140bcde9659a37cabf95c88f28348751a95dcd0386c48527876482924aed5"
  },
  "kernelspec": {
   "display_name": "Python 3.9.10 ('base')",
   "language": "python",
   "name": "python3"
  },
  "language_info": {
   "codemirror_mode": {
    "name": "ipython",
    "version": 3
   },
   "file_extension": ".py",
   "mimetype": "text/x-python",
   "name": "python",
   "nbconvert_exporter": "python",
   "pygments_lexer": "ipython3",
   "version": "3.9.10"
  },
  "orig_nbformat": 4
 },
 "nbformat": 4,
 "nbformat_minor": 2
}
