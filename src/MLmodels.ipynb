{
  "nbformat": 4,
  "nbformat_minor": 0,
  "metadata": {
    "colab": {
      "name": "Untitled8.ipynb",
      "provenance": []
    },
    "kernelspec": {
      "name": "python3",
      "display_name": "Python 3"
    },
    "language_info": {
      "name": "python"
    }
  },
  "cells": [
    {
      "cell_type": "code",
      "source": [
        "import spotipy\n",
        "from spotipy.oauth2 import SpotifyOAuth\n",
        "import pandas as pd"
      ],
      "metadata": {
        "id": "yOYAEl01z9vy"
      },
      "execution_count": 2,
      "outputs": []
    },
    {
      "cell_type": "code",
      "source": [
        "import numpy as np\n",
        "import matplotlib.pyplot as plt\n",
        "from sklearn.preprocessing import MinMaxScaler\n",
        "from sklearn.feature_selection import RFECV\n",
        "from sklearn.model_selection import train_test_split, StratifiedKFold, GridSearchCV, RandomizedSearchCV\n",
        "from sklearn.metrics import classification_report\n",
        "from sklearn.linear_model import LogisticRegression\n",
        "from sklearn.ensemble import RandomForestClassifier\n",
        "from xgboost import XGBClassifier\n",
        "from sklearn.neighbors import KNeighborsClassifier"
      ],
      "metadata": {
        "id": "I06ZrwgVEoz6"
      },
      "execution_count": 21,
      "outputs": []
    },
    {
      "cell_type": "code",
      "source": [
        "top_artist_df = pd.read_csv(\"top_artists.csv\")\n",
        "top_tracks_df = pd.read_csv(\"top_tracks.csv\")\n",
        "saved_tracks_df = pd.read_csv(\"saved_tracks.csv\")\n",
        "playlist_tracks_df = pd.read_csv(\"playlists.csv\")\n",
        "songs = pd.read_csv(\"data.csv\")"
      ],
      "metadata": {
        "id": "LH5Isuea0BXA"
      },
      "execution_count": 29,
      "outputs": []
    },
    {
      "cell_type": "code",
      "source": [
        "playlist_tracks_df = playlist_tracks_df.drop_duplicates(subset='id', keep=\"first\").reset_index()"
      ],
      "metadata": {
        "id": "7W0nondnMWJ_"
      },
      "execution_count": 8,
      "outputs": []
    },
    {
      "cell_type": "code",
      "source": [
        "playlist_tracks_df.head()"
      ],
      "metadata": {
        "id": "v-dJzVDBMpS1"
      },
      "execution_count": null,
      "outputs": []
    },
    {
      "cell_type": "markdown",
      "source": [
        "#Labelling favourite playlists/songs as 1 and rest as 0"
      ],
      "metadata": {
        "id": "0KtZ1clNNCSR"
      }
    },
    {
      "cell_type": "code",
      "source": [
        "favourites = ['37i9dQZF1DWZqNqPemiefM', '37i9dQZF1DX6AWGsjpYHPA', '37i9dQZF1EUMDoJuT8yJsl', '37i9dQZF1EJEY0JyptNWDG']"
      ],
      "metadata": {
        "id": "SODwjSr6MrWL"
      },
      "execution_count": 10,
      "outputs": []
    },
    {
      "cell_type": "code",
      "source": [
        "playlist_tracks_df['ratings'] = playlist_tracks_df['id'].apply(lambda x: 1 if x in favourites else 0)\n",
        "top_tracks_df['ratings'] = 1\n",
        "saved_tracks_df['ratings'] = saved_tracks_df['track/id'].apply(lambda x: 1 if x in top_tracks_df['id'] else 0)"
      ],
      "metadata": {
        "id": "36JeQbcKNWpq"
      },
      "execution_count": 18,
      "outputs": []
    },
    {
      "cell_type": "code",
      "source": [
        "import random\n",
        "songs['ratings'] = [random.choice([0,1]) for id in songs.id]"
      ],
      "metadata": {
        "id": "SnUfIOAPXBUg"
      },
      "execution_count": 30,
      "outputs": []
    },
    {
      "cell_type": "code",
      "source": [
        "X = songs[['popularity', 'explicit', 'duration_ms', 'danceability', 'energy',\n",
        "                        'key', 'loudness', 'mode', 'speechiness', 'acousticness', 'instrumentalness',\n",
        "                        'liveness', 'valence', 'tempo']]\n",
        "y = songs['ratings']"
      ],
      "metadata": {
        "id": "KystgM9uPUlX"
      },
      "execution_count": 32,
      "outputs": []
    },
    {
      "cell_type": "code",
      "source": [
        "X_train, X_test, y_train, y_test = train_test_split(X, y, test_size=0.2, random_state=42)"
      ],
      "metadata": {
        "id": "grm15KPORYXP"
      },
      "execution_count": 33,
      "outputs": []
    },
    {
      "cell_type": "markdown",
      "source": [
        "#Ranking features by informational entropy (takes long time on large dataset)"
      ],
      "metadata": {
        "id": "vcqtDyynY1j7"
      }
    },
    {
      "cell_type": "code",
      "source": [
        "rf = RandomForestClassifier(n_estimators = 10, random_state = 42)\n",
        "rfecv = RFECV(estimator=rf, step=1, n_jobs=-1, cv=StratifiedKFold(2), verbose=1, scoring='roc_auc')\n",
        "rfecv.fit(X_train, y_train)\n",
        "\n",
        "print(f'Optimal number of features: {rfecv.n_features_}')\n",
        "\n",
        "plt.figure()\n",
        "plt.xlabel('Number of features selected')\n",
        "plt.ylabel('Cross validation score')\n",
        "plt.plot(range(1, len(rfecv.grid_scores_)+1), rfecv.grid_scores_)\n",
        "plt.show()"
      ],
      "metadata": {
        "id": "SifmxSkJRwOL"
      },
      "execution_count": null,
      "outputs": []
    },
    {
      "cell_type": "code",
      "source": [
        "rfc = RandomForestClassifier(n_estimators = 1000, max_depth=4, random_state=42)\n",
        "rfc.fit(X_train, y_train)\n",
        "\n",
        "important_features_dict = {}\n",
        "for idx, val in enumerate(rfc.feature_importances_):\n",
        "    important_features_dict[idx] = val\n",
        "\n",
        "important_features_list = sorted(important_features_dict,\n",
        "                                 key=important_features_dict.get,\n",
        "                                 reverse=True)\n"
      ],
      "metadata": {
        "id": "9nQXNb-qYkrr"
      },
      "execution_count": null,
      "outputs": []
    },
    {
      "cell_type": "markdown",
      "source": [
        "#Training models\n",
        "The evaluations are generated by the classification report function"
      ],
      "metadata": {
        "id": "YSxFV0WKZYF6"
      }
    },
    {
      "cell_type": "code",
      "source": [
        "rfc = RandomForestClassifier(n_estimators = 1000, random_state=42)\n",
        "rfc_gcv_parameters = {'min_samples_leaf': [1, 3, 5, 8], \n",
        "                      'max_depth': [3, 4, 5, 8, 12, 16, 20], \n",
        "                     }\n",
        "rfe_gcv = GridSearchCV(rfc, rfc_gcv_parameters, n_jobs=-1, cv=StratifiedKFold(2), verbose=1, scoring='roc_auc')\n",
        "rfe_gcv.fit(X_train, y_train)\n",
        "minmax_scaler = MinMaxScaler()\n",
        "X_train_scaled = pd.DataFrame(minmax_scaler.fit_transform(X_train), columns=X_train.columns)\n",
        "print(classification_report(y_test, rfe_gcv.predict(X_test)))"
      ],
      "metadata": {
        "id": "KjaVTtS_ZEhA"
      },
      "execution_count": null,
      "outputs": []
    },
    {
      "cell_type": "code",
      "source": [
        "lr = LogisticRegression()\n",
        "lr.fit(X_train_scaled, y_train)\n",
        "print(classification_report(y_test, lr.predict(X_test)))"
      ],
      "metadata": {
        "id": "sPTvG_rZaa8A"
      },
      "execution_count": null,
      "outputs": []
    },
    {
      "cell_type": "code",
      "source": [
        "xgb = XGBClassifier(n_estimators = 1000, random_state=42, use_label_encoder=False)\n",
        "xgb_gcv_parameters = {'eta': [0.2, 0.3, 0.4, 0.5],\n",
        "                      'min_child_weight': [0.3, 0.5, 0.8, 1],\n",
        "                      'max_depth': [3, 4, 5, 8, 12, 16, 20], \n",
        "                     }\n",
        "xgb_gcv = GridSearchCV(xgb, xgb_gcv_parameters, n_jobs=-1, cv=StratifiedKFold(2), verbose=1, scoring='roc_auc')\n",
        "xgb_gcv.fit(X_train, y_train)  \n",
        "xgb_gcv.best_estimator_, xgb_gcv.best_score_\n",
        "print(classification_report(y_test, xgb_gcv.predict(X_test)))"
      ],
      "metadata": {
        "id": "GQpuUvs0aQAw"
      },
      "execution_count": null,
      "outputs": []
    },
    {
      "cell_type": "code",
      "source": [
        "knn = KNeighborsClassifier(n_jobs=-1)\n",
        "knn_gcv_params = {'n_neighbors': range(1, 10)}\n",
        "\n",
        "knn_gcv = GridSearchCV(knn, knn_gcv_params, n_jobs=-1, cv=StratifiedKFold(2), verbose=1, scoring='roc_auc')\n",
        "knn_gcv.fit(X_train, y_train)\n",
        "knn_gcv.best_params_, knn_gcv.best_score_\n",
        "print(classification_report(y_test, knn_gcv.predict(X_test)))"
      ],
      "metadata": {
        "id": "2wjR6qFMaURr"
      },
      "execution_count": null,
      "outputs": []
    }
  ]
}